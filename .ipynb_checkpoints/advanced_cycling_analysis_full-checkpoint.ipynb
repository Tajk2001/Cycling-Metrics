{
 "cells": [
  {
   "cell_type": "markdown",
   "id": "ef80f2db",
   "metadata": {},
   "source": [
    "# Advanced Cycling FIT File Analysis\n",
    "This notebook provides a clean, structured workflow for advanced cycling analysis aligned with current scientific best practices.\n",
    "Sections:\n",
    "1. Import Libraries\n",
    "2. Parse FIT File\n",
    "3. Clean and Smooth Data\n",
    "4. Session Summary Metrics\n",
    "5. Core Analysis (Zones, Plots)\n",
    "6. Lap Analysis\n",
    "7. Advanced Analysis (CP Estimation, W' Bal, Torque, Lactate)\n"
   ]
  },
  {
   "cell_type": "markdown",
   "id": "efa334ea",
   "metadata": {},
   "source": [
    "## 1. Import Libraries"
   ]
  },
  {
   "cell_type": "code",
   "execution_count": 1,
   "id": "729584b9",
   "metadata": {},
   "outputs": [],
   "source": [
    "import pandas as pd\n",
    "import numpy as np\n",
    "import matplotlib.pyplot as plt\n",
    "from scipy.optimize import curve_fit\n",
    "import fitparse"
   ]
  },
  {
   "cell_type": "markdown",
   "id": "08ad0d22",
   "metadata": {},
   "source": [
    "## 2. Parse FIT File"
   ]
  },
  {
   "cell_type": "code",
   "execution_count": 2,
   "id": "6fc64277",
   "metadata": {},
   "outputs": [
    {
     "ename": "FileNotFoundError",
     "evalue": "[Errno 2] No such file or directory: 'yourfile.fit'",
     "output_type": "error",
     "traceback": [
      "\u001b[31m---------------------------------------------------------------------------\u001b[39m",
      "\u001b[31mFileNotFoundError\u001b[39m                         Traceback (most recent call last)",
      "\u001b[36mCell\u001b[39m\u001b[36m \u001b[39m\u001b[32mIn[2]\u001b[39m\u001b[32m, line 1\u001b[39m\n\u001b[32m----> \u001b[39m\u001b[32m1\u001b[39m fitfile = \u001b[43mfitparse\u001b[49m\u001b[43m.\u001b[49m\u001b[43mFitFile\u001b[49m\u001b[43m(\u001b[49m\u001b[33;43m'\u001b[39;49m\u001b[33;43myourfile.fit\u001b[39;49m\u001b[33;43m'\u001b[39;49m\u001b[43m)\u001b[49m  \u001b[38;5;66;03m# Replace with your file\u001b[39;00m\n\u001b[32m      2\u001b[39m records = [{field.name: field.value \u001b[38;5;28;01mfor\u001b[39;00m field \u001b[38;5;129;01min\u001b[39;00m record} \u001b[38;5;28;01mfor\u001b[39;00m record \u001b[38;5;129;01min\u001b[39;00m fitfile.get_messages(\u001b[33m'\u001b[39m\u001b[33mrecord\u001b[39m\u001b[33m'\u001b[39m)]\n\u001b[32m      3\u001b[39m laps = [{field.name: field.value \u001b[38;5;28;01mfor\u001b[39;00m field \u001b[38;5;129;01min\u001b[39;00m lap} \u001b[38;5;28;01mfor\u001b[39;00m lap \u001b[38;5;129;01min\u001b[39;00m fitfile.get_messages(\u001b[33m'\u001b[39m\u001b[33mlap\u001b[39m\u001b[33m'\u001b[39m)]\n",
      "\u001b[36mFile \u001b[39m\u001b[32m~/projects/cycling_analysis/venv/lib/python3.13/site-packages/fitparse/base.py:23\u001b[39m, in \u001b[36mFitFile.__init__\u001b[39m\u001b[34m(self, fileish, check_crc, data_processor)\u001b[39m\n\u001b[32m     22\u001b[39m \u001b[38;5;28;01mdef\u001b[39;00m\u001b[38;5;250m \u001b[39m\u001b[34m__init__\u001b[39m(\u001b[38;5;28mself\u001b[39m, fileish, check_crc=\u001b[38;5;28;01mTrue\u001b[39;00m, data_processor=\u001b[38;5;28;01mNone\u001b[39;00m):\n\u001b[32m---> \u001b[39m\u001b[32m23\u001b[39m     \u001b[38;5;28mself\u001b[39m._file = \u001b[43mfileish_open\u001b[49m\u001b[43m(\u001b[49m\u001b[43mfileish\u001b[49m\u001b[43m,\u001b[49m\u001b[43m \u001b[49m\u001b[33;43m'\u001b[39;49m\u001b[33;43mrb\u001b[39;49m\u001b[33;43m'\u001b[39;49m\u001b[43m)\u001b[49m\n\u001b[32m     25\u001b[39m     \u001b[38;5;28mself\u001b[39m.check_crc = check_crc\n\u001b[32m     26\u001b[39m     \u001b[38;5;28mself\u001b[39m._crc = \u001b[38;5;28;01mNone\u001b[39;00m\n",
      "\u001b[36mFile \u001b[39m\u001b[32m~/projects/cycling_analysis/venv/lib/python3.13/site-packages/fitparse/utils.py:56\u001b[39m, in \u001b[36mfileish_open\u001b[39m\u001b[34m(fileish, mode)\u001b[39m\n\u001b[32m     52\u001b[39m \u001b[38;5;28;01melif\u001b[39;00m \u001b[38;5;28misinstance\u001b[39m(fileish, \u001b[38;5;28mstr\u001b[39m):\n\u001b[32m     53\u001b[39m     \u001b[38;5;66;03m# Python2 - file path, file contents in the case of a TypeError\u001b[39;00m\n\u001b[32m     54\u001b[39m     \u001b[38;5;66;03m# Python3 - file path\u001b[39;00m\n\u001b[32m     55\u001b[39m     \u001b[38;5;28;01mtry\u001b[39;00m:\n\u001b[32m---> \u001b[39m\u001b[32m56\u001b[39m         \u001b[38;5;28;01mreturn\u001b[39;00m \u001b[38;5;28;43mopen\u001b[39;49m\u001b[43m(\u001b[49m\u001b[43mfileish\u001b[49m\u001b[43m,\u001b[49m\u001b[43m \u001b[49m\u001b[43mmode\u001b[49m\u001b[43m)\u001b[49m\n\u001b[32m     57\u001b[39m     \u001b[38;5;28;01mexcept\u001b[39;00m \u001b[38;5;167;01mTypeError\u001b[39;00m:\n\u001b[32m     58\u001b[39m         \u001b[38;5;28;01mreturn\u001b[39;00m io.BytesIO(fileish)\n",
      "\u001b[31mFileNotFoundError\u001b[39m: [Errno 2] No such file or directory: 'yourfile.fit'"
     ]
    }
   ],
   "source": [
    "fitfile = fitparse.FitFile('/Users/tajkrieger/Downloads/Truckee_Gravel_6th.fit')  # Replace with your file\n",
    "records = [{field.name: field.value for field in record} for record in fitfile.get_messages('record')]\n",
    "laps = [{field.name: field.value for field in lap} for lap in fitfile.get_messages('lap')]\n",
    "df = pd.DataFrame(records)\n",
    "print(df.shape)\n",
    "df.head()"
   ]
  },
  {
   "cell_type": "markdown",
   "id": "e1cb4820",
   "metadata": {},
   "source": [
    "## 3. Clean and Smooth Data"
   ]
  },
  {
   "cell_type": "code",
   "execution_count": null,
   "id": "28f11715",
   "metadata": {},
   "outputs": [],
   "source": [
    "if 'speed' in df.columns:\n",
    "    df['speed_kmh'] = df['speed'] * 3.6\n",
    "if 'distance' in df.columns:\n",
    "    df['distance_km'] = df['distance'] / 1000\n",
    "for col in ['power', 'cadence', 'heart_rate', 'speed_kmh']:\n",
    "    if col in df.columns:\n",
    "        df[col] = df[col].interpolate(limit_direction='both')\n",
    "smoothing_windows = {'power':30, 'heart_rate':30, 'cadence':30, 'speed_kmh':10}\n",
    "for col in smoothing_windows:\n",
    "    if col in df.columns:\n",
    "        df[col+'_smoothed'] = df[col].rolling(window=smoothing_windows[col], min_periods=1, center=True).mean()\n",
    "print('Data cleaned and smoothed.')"
   ]
  },
  {
   "cell_type": "markdown",
   "id": "e1b5c77f",
   "metadata": {},
   "source": [
    "## 4. Session Summary Metrics"
   ]
  },
  {
   "cell_type": "code",
   "execution_count": null,
   "id": "8d89b604",
   "metadata": {},
   "outputs": [],
   "source": [
    "ftp = 250  # Adjust per athlete\n",
    "np_calc = (df['power'].rolling(window=30, min_periods=1).mean() ** 4).mean() ** 0.25\n",
    "avg_power = df['power'].mean()\n",
    "IF = np_calc / ftp\n",
    "duration_hr = (df['timestamp'].iloc[-1] - df['timestamp'].iloc[0]).total_seconds() / 3600\n",
    "TSS = (duration_hr * np_calc * IF) / ftp * 100\n",
    "VI = np_calc / avg_power\n",
    "print(f'Normalized Power: {np_calc:.0f} W, IF: {IF:.2f}, TSS: {TSS:.0f}, VI: {VI:.2f}')"
   ]
  },
  {
   "cell_type": "markdown",
   "id": "86324f3b",
   "metadata": {},
   "source": [
    "## 5. Core Analysis: Zones and Plots"
   ]
  },
  {
   "cell_type": "code",
   "execution_count": null,
   "id": "e88ce145",
   "metadata": {},
   "outputs": [],
   "source": [
    "# Power Zone Distribution\n",
    "if 'power' in df.columns:\n",
    "    df['pct_ftp'] = (df['power'] / ftp) * 100\n",
    "    bins = [0, 55, 75, 90, 105, 120, 150, np.inf]\n",
    "    labels = ['Z1', 'Z2', 'Z3', 'Z4', 'Z5', 'Z6', 'Z7']\n",
    "    df['power_zone'] = pd.cut(df['pct_ftp'], bins=bins, labels=labels)\n",
    "    df['power_zone'].value_counts().sort_index().plot(kind='bar', title='Power Zone Distribution')\n",
    "    plt.show()"
   ]
  },
  {
   "cell_type": "markdown",
   "id": "d0cd1afd",
   "metadata": {},
   "source": [
    "## 6. Lap Analysis"
   ]
  },
  {
   "cell_type": "code",
   "execution_count": null,
   "id": "3369d4a2",
   "metadata": {},
   "outputs": [],
   "source": [
    "if laps:\n",
    "    lap_df = pd.DataFrame(laps)\n",
    "    display(lap_df)\n",
    "else:\n",
    "    print('No lap data available.')"
   ]
  },
  {
   "cell_type": "markdown",
   "id": "f8b4f871",
   "metadata": {},
   "source": [
    "## 7. Advanced Analysis"
   ]
  },
  {
   "cell_type": "markdown",
   "id": "4d38cbb4",
   "metadata": {},
   "source": [
    "### 7.1 Critical Power (CP) Estimation"
   ]
  },
  {
   "cell_type": "code",
   "execution_count": null,
   "id": "58a91544",
   "metadata": {},
   "outputs": [],
   "source": [
    "def cp_model(t, CP, W_prime):\n",
    "    return CP + (W_prime / t)\n",
    "durations = np.array([5, 15, 30, 60, 120, 300, 600])\n",
    "mmp = [df['power'].rolling(window=d, min_periods=1).mean().max() for d in durations]\n",
    "popt, _ = curve_fit(cp_model, durations, mmp, bounds=(0, [600, 100000]))\n",
    "cp_est, w_prime_est = popt\n",
    "print(f'Estimated CP: {cp_est:.0f} W, W\\': {w_prime_est:.0f} J')"
   ]
  },
  {
   "cell_type": "markdown",
   "id": "cf4bd62e",
   "metadata": {},
   "source": [
    "### 7.2 W' Balance Tracking"
   ]
  },
  {
   "cell_type": "code",
   "execution_count": null,
   "id": "7f9eff66",
   "metadata": {},
   "outputs": [],
   "source": [
    "tau = 546\n",
    "w_bal = []\n",
    "current_w_prime = w_prime_est\n",
    "timestamps = pd.to_datetime(df['timestamp'])\n",
    "time_diffs = timestamps.diff().dt.total_seconds().fillna(1).clip(lower=0.01)\n",
    "for idx, row in df.iterrows():\n",
    "    power = row['power']\n",
    "    dt = time_diffs.iloc[idx]\n",
    "    if power > cp_est:\n",
    "        current_w_prime -= (power - cp_est) * dt\n",
    "    else:\n",
    "        recovery = (w_prime_est - current_w_prime) * (1 - np.exp(-dt / tau))\n",
    "        current_w_prime += recovery\n",
    "    current_w_prime = max(0, min(current_w_prime, w_prime_est))\n",
    "    w_bal.append(current_w_prime)\n",
    "df['w_prime_bal'] = w_bal\n",
    "df['w_prime_bal'].plot(title=\"W' Balance\")\n",
    "plt.ylabel('Joules')\n",
    "plt.show()"
   ]
  },
  {
   "cell_type": "markdown",
   "id": "81b6277c",
   "metadata": {},
   "source": [
    "### 7.3 Torque Analysis"
   ]
  },
  {
   "cell_type": "code",
   "execution_count": null,
   "id": "dbb60428",
   "metadata": {},
   "outputs": [],
   "source": [
    "if 'power' in df.columns and 'cadence' in df.columns:\n",
    "    df['torque'] = (df['power'] * 60) / (2 * np.pi * df['cadence'].replace(0, np.nan))\n",
    "    plt.scatter(df['cadence'], df['torque'], alpha=0.3)\n",
    "    plt.title('Torque vs Cadence')\n",
    "    plt.xlabel('Cadence (rpm)')\n",
    "    plt.ylabel('Torque (Nm)')\n",
    "    plt.show()"
   ]
  },
  {
   "cell_type": "markdown",
   "id": "4a795e5e",
   "metadata": {},
   "source": [
    "### 7.4 Lactate Estimation Modeling"
   ]
  },
  {
   "cell_type": "code",
   "execution_count": null,
   "id": "f7a87425",
   "metadata": {},
   "outputs": [],
   "source": [
    "def estimate_lactate(power, ftp):\n",
    "    lactate_rest = 1.0\n",
    "    lactate_peak = 12.0\n",
    "    if power <= ftp:\n",
    "        return lactate_rest + (power / ftp) * 2\n",
    "    else:\n",
    "        return lactate_rest + 2 + (lactate_peak - 2) * (1 - np.exp(-(power - ftp) / (0.1 * ftp)))\n",
    "df['lactate_est'] = df['power'].apply(lambda p: estimate_lactate(p, ftp))\n",
    "df['lactate_est'].plot(title='Estimated Lactate (mmol/L)')\n",
    "plt.show()"
   ]
  }
 ],
 "metadata": {
  "kernelspec": {
   "display_name": "Python 3 (ipykernel)",
   "language": "python",
   "name": "python3"
  },
  "language_info": {
   "codemirror_mode": {
    "name": "ipython",
    "version": 3
   },
   "file_extension": ".py",
   "mimetype": "text/x-python",
   "name": "python",
   "nbconvert_exporter": "python",
   "pygments_lexer": "ipython3",
   "version": "3.13.5"
  }
 },
 "nbformat": 4,
 "nbformat_minor": 5
}
